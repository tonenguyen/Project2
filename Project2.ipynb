{
 "cells": [
  {
   "cell_type": "code",
   "execution_count": 18,
   "metadata": {},
   "outputs": [],
   "source": [
    "import pandas as pd\n",
    "from sqlalchemy import create_engine\n",
    "from mysql.connector import Error"
   ]
  },
  {
   "cell_type": "code",
   "execution_count": 58,
   "metadata": {},
   "outputs": [
    {
     "name": "stdout",
     "output_type": "stream",
     "text": [
      "Connected to MySQL and created DB ProjectX \n",
      "<sqlalchemy.engine.base.Connection object at 0x0000000008767CC0>\n"
     ]
    }
   ],
   "source": [
    "#DB Connection \n",
    "\n",
    "DB_NAME = 'ProjectX'\n",
    "userName = 'project2'\n",
    "userPass = 'Project2'\n",
    "DBport = '3306'\n",
    "\n",
    "#!pip install pymysql\n",
    "# use pymysql as connector\n",
    "\n",
    "connectionString = \"mysql+pymysql://{}:{}@localhost:{}/\".format(userName, userPass, DBport)\n",
    "\n",
    "connectionDB = None\n",
    "\n",
    "try:\n",
    "    connection = create_engine(connectionString)\n",
    "    connectionDB = connection.connect()\n",
    "    connectionDB.execute(\"commit\")\n",
    "    record = connection.execute(\"CREATE DATABASE IF NOT EXISTS {};\".format(DB_NAME))\n",
    "    print(\"Connected to MySQL and created DB {} \\n{}\".format(DB_NAME, connectionDB))\n",
    "    \n",
    "except Error as e :\n",
    "    print (\"Error while connecting to MySQL\", e)  "
   ]
  },
  {
   "cell_type": "code",
   "execution_count": 59,
   "metadata": {},
   "outputs": [],
   "source": [
    "#Table layout\n",
    "\n",
    "TABLES = {}\n",
    "\n",
    "tableSyntax = \"CREATE TABLE IF NOT EXISTS\"\n",
    "TABLES['CarSales'] = (\n",
    "    \"{} `CarSales` (\"\n",
    "    \" `id` int(6) NOT NULL AUTO_INCREMENT,\"\n",
    "    \" `Brand` varchar(10) NOT NULL,\"\n",
    "    \" `Model` varchar(10) NOT NULL,\"\n",
    "    \" `VehicleType` varchar(15) NOT NULL,\"\n",
    "    \" `SaleVolume` int(10) NOT NULL,\"\n",
    "    \" `Date` varchar(10) NOT NULL,\"\n",
    "    \"  PRIMARY KEY (`id`)\"\n",
    "    \") ENGINE=InnoDB\".format(tableSyntax) )\n",
    "\n",
    "TABLES['TotalSales'] = (\n",
    "    \"{} `TotalSales` (\"\n",
    "    \"  `id` int(6) NOT NULL AUTO_INCREMENT,\"\n",
    "    \"  `Date`  DATE NOT NULL,\"\n",
    "    \"  `Volume` INT(10) NOT NULL,\"\n",
    "    \"  PRIMARY KEY (`id`)\"\n",
    "    \") ENGINE=InnoDB\".format(tableSyntax) )"
   ]
  },
  {
   "cell_type": "code",
   "execution_count": 60,
   "metadata": {},
   "outputs": [
    {
     "name": "stdout",
     "output_type": "stream",
     "text": [
      "Creating table CREATE TABLE IF NOT EXISTS `CarSales` ( `id` int(6) NOT NULL AUTO_INCREMENT, `Brand` varchar(10) NOT NULL, `Model` varchar(10) NOT NULL, `VehicleType` varchar(15) NOT NULL, `SaleVolume` int(10) NOT NULL, `Date` varchar(10) NOT NULL,  PRIMARY KEY (`id`)) ENGINE=InnoDB: Creating table CREATE TABLE IF NOT EXISTS `TotalSales` (  `id` int(6) NOT NULL AUTO_INCREMENT,  `Date`  DATE NOT NULL,  `Volume` INT(10) NOT NULL,  PRIMARY KEY (`id`)) ENGINE=InnoDB: "
     ]
    }
   ],
   "source": [
    "# create the tables in mySQL\n",
    "\n",
    "try:\n",
    "    connectionDB.execute('Use {};'.format(DB_NAME))\n",
    "    for eachTable in TABLES.keys():\n",
    "        table_description = TABLES[eachTable]\n",
    "        #print(eachTable, table_description)\n",
    "        try:\n",
    "            print(\"Creating table {}: \".format(table_description), end='')\n",
    "            connectionDB.execute(table_description)\n",
    "        except Error as err:\n",
    "            print(\"Failed creating table: {}\".format(err))\n",
    "except:\n",
    "    print(\"Connection is not working\")\n",
    "        \n",
    "#connectionDB.close()\n",
    "#close the connection when done"
   ]
  },
  {
   "cell_type": "code",
   "execution_count": 61,
   "metadata": {},
   "outputs": [
    {
     "data": {
      "text/plain": [
       "Date       object\n",
       "SaleVol     int32\n",
       "dtype: object"
      ]
     },
     "execution_count": 61,
     "metadata": {},
     "output_type": "execute_result"
    }
   ],
   "source": [
    "df = pd.read_csv('TOTALSA.csv')\n",
    "df.columns = ['Date', 'SaleVol']\n",
    "df['SaleVol'] = df['SaleVol'] * 1000\n",
    "df['SaleVol']= df['SaleVol'].astype(int)\n",
    "df.dtypes\n",
    "#df"
   ]
  },
  {
   "cell_type": "code",
   "execution_count": 62,
   "metadata": {},
   "outputs": [],
   "source": [
    "connectionDBString = connectionString+DB_NAME\n",
    "connectionDB = create_engine(connectionDBString)\n",
    "\n",
    "df.to_sql(con=connectionDB, name='totalsales', if_exists='replace')\n"
   ]
  },
  {
   "cell_type": "code",
   "execution_count": null,
   "metadata": {},
   "outputs": [],
   "source": []
  }
 ],
 "metadata": {
  "kernelspec": {
   "display_name": "Python 3",
   "language": "python",
   "name": "python3"
  },
  "language_info": {
   "codemirror_mode": {
    "name": "ipython",
    "version": 3
   },
   "file_extension": ".py",
   "mimetype": "text/x-python",
   "name": "python",
   "nbconvert_exporter": "python",
   "pygments_lexer": "ipython3",
   "version": "3.7.1"
  }
 },
 "nbformat": 4,
 "nbformat_minor": 2
}
