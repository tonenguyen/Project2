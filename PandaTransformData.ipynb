{
 "cells": [
  {
   "cell_type": "code",
   "execution_count": 1,
   "metadata": {},
   "outputs": [],
   "source": [
    "import pandas as pd\n",
    "#import numpy as np \n",
    "\n",
    "autoDataFile = \"Automobile_data.csv\"\n",
    "df = None\n",
    "try:\n",
    "    df = pd.read_csv(autoDataFile)\n",
    "except:\n",
    "    print(\"Cant read {} file\".format(autoDataFile))\n",
    "    \n",
    "df.dtypes\n",
    "df = df[df.columns].replace('[\\?]', 0, regex=True)\n",
    "#Error Correction\n",
    "df = df[df.columns].replace('romero', 'romeo', regex=True)\n",
    "\n",
    "#df.to_csv(\"Automobile.csv\")\n",
    "df['bore'] = df['bore'].astype(float)\n",
    "df['stroke'] = df['stroke'].astype(float)\n",
    "df['horsepower'] = df['horsepower'].astype(int)\n",
    "df['peak-rpm'] = df['peak-rpm'].astype(int)\n",
    "df['price'] = df['price'].astype(float)"
   ]
  },
  {
   "cell_type": "code",
   "execution_count": 15,
   "metadata": {},
   "outputs": [],
   "source": [
    "columns = df.columns.values\n",
    "columnsName = []\n",
    "for each in columns:\n",
    "    x = each.replace('-', '')\n",
    "    columnsName.append(x)\n",
    "    \n",
    "df.columns = columnsName\n",
    "\n",
    "#for backward compatible code that relies on CSV\n",
    "df.to_csv(\"cleanedAutomobile.csv\", index=False)\n",
    "automobileDF = df"
   ]
  },
  {
   "cell_type": "code",
   "execution_count": 27,
   "metadata": {},
   "outputs": [
    {
     "name": "stdout",
     "output_type": "stream",
     "text": [
      "Stored 'WebScrapingData' (list)\n"
     ]
    }
   ],
   "source": [
    "%run WebScraping.ipynb"
   ]
  },
  {
   "cell_type": "code",
   "execution_count": 28,
   "metadata": {},
   "outputs": [
    {
     "data": {
      "text/plain": [
       "[['Brand', 'Month', 'Change', 'YTD', 'YTD Change', 'Month Share', 'YTD Share'],\n",
       " {'Acura': ['16,774', '11.37', '158,934', '2.80', '1.04', '0.92'],\n",
       "  'Alfa Romeo': ['1,946', '-4.33', '23,800', '97.82', '0.12', '0.14'],\n",
       "  'Audi': ['22,765', '-14.47', '223,068', '-0.09', '1.42', '1.29'],\n",
       "  'BMW': ['34,357', '0.30', '311,014', '1.74', '2.14', '1.80'],\n",
       "  'Buick': ['17,305', '-22.35', '207,223', '-5.48', '1.08', '1.20'],\n",
       "  'Cadillac': ['14,001', '1.95', '153,863', '8.55', '0.87', '0.89'],\n",
       "  'Chevrolet': ['179,212', '-13.34', '2,017,205', '-2.36', '11.16', '11.70'],\n",
       "  'Chrysler': ['12,425', '-27.80', '165,964', '-11.98', '0.77', '0.96'],\n",
       "  'Dodge': ['32,528', '16.65', '459,324', '2.76', '2.03', '2.66'],\n",
       "  'Fiat': ['977', '-43.79', '15,521', '-41.41', '0.06', '0.09'],\n",
       "  'Ford': ['208,106', '-9.63', '2,386,588', '-3.14', '12.96', '13.84'],\n",
       "  'Genesis': ['614', '-68.48', '9,940', '-51.78', '0.04', '0.06'],\n",
       "  'GMC': ['54,203', '-15.50', '556,451', '-0.61', '3.38', '3.23'],\n",
       "  'Honda': ['138,341', '3.04', '1,445,627', '-2.63', '8.61', '8.39'],\n",
       "  'Hyundai': ['65,107', '5.61', '679,127', '2.13', '4.05', '3.94'],\n",
       "  'Infiniti': ['18,065', '10.29', '149,280', '-2.70', '1.12', '0.87'],\n",
       "  'Jaguar': ['3,462', '1.41', '30,254', '-24.15', '0.22', '0.18'],\n",
       "  'Jeep': ['80,449', '9.90', '973,227', '17.47', '5.01', '5.65'],\n",
       "  'Kia': ['47,428', '10.20', '589,673', '0.00', '2.95', '3.42'],\n",
       "  'Land Rover': ['10,617', '33.05', '92,143', '23.97', '0.66', '0.53'],\n",
       "  'Lexus': ['35,524', '0.18', '298,302', '-2.00', '2.21', '1.73'],\n",
       "  'Lincoln': ['11,526', '8.54', '103,587', '-6.81', '0.72', '0.60'],\n",
       "  'Mazda': ['25,870', '-3.80', '300,325', '3.75', '1.61', '1.74'],\n",
       "  'Mercedes-Benz': ['36,132', '-7.94', '349,084', '-6.22', '2.25', '2.02'],\n",
       "  'Mini': ['2,797', '-39.34', '43,684', '-7.26', '0.17', '0.25'],\n",
       "  'Mitsubishi': ['8,986', '5.71', '118,074', '13.88', '0.56', '0.68'],\n",
       "  'Nissan': ['130,655', '7.23', '1,344,597', '-6.63', '8.14', '7.80'],\n",
       "  'Porsche': ['4,086', '-3.04', '59,116', '-2.30', '0.25', '0.34'],\n",
       "  'Ram': ['68,195', '36.73', '597,368', '7.29', '4.25', '3.46'],\n",
       "  'Smart': ['122', '-26.51', '1,276', '-58.45', '0.01', '0.01'],\n",
       "  'Subaru': ['64,541', '1.89', '680,135', '4.97', '4.02', '3.95'],\n",
       "  'Tesla': ['32,600', '497.07', '197,517', '294.51', '2.03', '1.15'],\n",
       "  'Toyota': ['185,384', '-1.14', '2,224,156', '4.46', '11.54', '12.90']}]"
      ]
     },
     "execution_count": 28,
     "metadata": {},
     "output_type": "execute_result"
    }
   ],
   "source": [
    "%store -r  WebScrapingData\n",
    "WebScrapingData\n"
   ]
  },
  {
   "cell_type": "code",
   "execution_count": 25,
   "metadata": {},
   "outputs": [],
   "source": [
    "TableColNames, Data = WebScrapingData\n",
    "df = pd.DataFrame(data=Data)\n",
    "df = df.T\n",
    "df.reset_index(inplace=True)\n",
    "df.columns = tableColNames\n",
    "df[df.columns].replace('[\\,]', '', regex=True)\n",
    "df['Brand'] = df['Brand'].str.lower()\n",
    "brandRankingDF = df "
   ]
  },
  {
   "cell_type": "code",
   "execution_count": 26,
   "metadata": {},
   "outputs": [
    {
     "data": {
      "text/plain": [
       "{'Automobile':             Brand    Month  Change        YTD YTD Change Month Share YTD Share\n",
       " 0           acura   16,774   11.37    158,934       2.80        1.04      0.92\n",
       " 1      alfa romeo    1,946   -4.33     23,800      97.82        0.12      0.14\n",
       " 2            audi   22,765  -14.47    223,068      -0.09        1.42      1.29\n",
       " 3             bmw   34,357    0.30    311,014       1.74        2.14      1.80\n",
       " 4           buick   17,305  -22.35    207,223      -5.48        1.08      1.20\n",
       " 5        cadillac   14,001    1.95    153,863       8.55        0.87      0.89\n",
       " 6       chevrolet  179,212  -13.34  2,017,205      -2.36       11.16     11.70\n",
       " 7        chrysler   12,425  -27.80    165,964     -11.98        0.77      0.96\n",
       " 8           dodge   32,528   16.65    459,324       2.76        2.03      2.66\n",
       " 9            fiat      977  -43.79     15,521     -41.41        0.06      0.09\n",
       " 10           ford  208,106   -9.63  2,386,588      -3.14       12.96     13.84\n",
       " 11        genesis      614  -68.48      9,940     -51.78        0.04      0.06\n",
       " 12            gmc   54,203  -15.50    556,451      -0.61        3.38      3.23\n",
       " 13          honda  138,341    3.04  1,445,627      -2.63        8.61      8.39\n",
       " 14        hyundai   65,107    5.61    679,127       2.13        4.05      3.94\n",
       " 15       infiniti   18,065   10.29    149,280      -2.70        1.12      0.87\n",
       " 16         jaguar    3,462    1.41     30,254     -24.15        0.22      0.18\n",
       " 17           jeep   80,449    9.90    973,227      17.47        5.01      5.65\n",
       " 18            kia   47,428   10.20    589,673       0.00        2.95      3.42\n",
       " 19     land rover   10,617   33.05     92,143      23.97        0.66      0.53\n",
       " 20          lexus   35,524    0.18    298,302      -2.00        2.21      1.73\n",
       " 21        lincoln   11,526    8.54    103,587      -6.81        0.72      0.60\n",
       " 22          mazda   25,870   -3.80    300,325       3.75        1.61      1.74\n",
       " 23  mercedes-benz   36,132   -7.94    349,084      -6.22        2.25      2.02\n",
       " 24           mini    2,797  -39.34     43,684      -7.26        0.17      0.25\n",
       " 25     mitsubishi    8,986    5.71    118,074      13.88        0.56      0.68\n",
       " 26         nissan  130,655    7.23  1,344,597      -6.63        8.14      7.80\n",
       " 27        porsche    4,086   -3.04     59,116      -2.30        0.25      0.34\n",
       " 28            ram   68,195   36.73    597,368       7.29        4.25      3.46\n",
       " 29          smart      122  -26.51      1,276     -58.45        0.01      0.01\n",
       " 30         subaru   64,541    1.89    680,135       4.97        4.02      3.95\n",
       " 31          tesla   32,600  497.07    197,517     294.51        2.03      1.15\n",
       " 32         toyota  185,384   -1.14  2,224,156       4.46       11.54     12.90,\n",
       " 'BrandRanking':             Brand    Month  Change        YTD YTD Change Month Share YTD Share\n",
       " 0           acura   16,774   11.37    158,934       2.80        1.04      0.92\n",
       " 1      alfa romeo    1,946   -4.33     23,800      97.82        0.12      0.14\n",
       " 2            audi   22,765  -14.47    223,068      -0.09        1.42      1.29\n",
       " 3             bmw   34,357    0.30    311,014       1.74        2.14      1.80\n",
       " 4           buick   17,305  -22.35    207,223      -5.48        1.08      1.20\n",
       " 5        cadillac   14,001    1.95    153,863       8.55        0.87      0.89\n",
       " 6       chevrolet  179,212  -13.34  2,017,205      -2.36       11.16     11.70\n",
       " 7        chrysler   12,425  -27.80    165,964     -11.98        0.77      0.96\n",
       " 8           dodge   32,528   16.65    459,324       2.76        2.03      2.66\n",
       " 9            fiat      977  -43.79     15,521     -41.41        0.06      0.09\n",
       " 10           ford  208,106   -9.63  2,386,588      -3.14       12.96     13.84\n",
       " 11        genesis      614  -68.48      9,940     -51.78        0.04      0.06\n",
       " 12            gmc   54,203  -15.50    556,451      -0.61        3.38      3.23\n",
       " 13          honda  138,341    3.04  1,445,627      -2.63        8.61      8.39\n",
       " 14        hyundai   65,107    5.61    679,127       2.13        4.05      3.94\n",
       " 15       infiniti   18,065   10.29    149,280      -2.70        1.12      0.87\n",
       " 16         jaguar    3,462    1.41     30,254     -24.15        0.22      0.18\n",
       " 17           jeep   80,449    9.90    973,227      17.47        5.01      5.65\n",
       " 18            kia   47,428   10.20    589,673       0.00        2.95      3.42\n",
       " 19     land rover   10,617   33.05     92,143      23.97        0.66      0.53\n",
       " 20          lexus   35,524    0.18    298,302      -2.00        2.21      1.73\n",
       " 21        lincoln   11,526    8.54    103,587      -6.81        0.72      0.60\n",
       " 22          mazda   25,870   -3.80    300,325       3.75        1.61      1.74\n",
       " 23  mercedes-benz   36,132   -7.94    349,084      -6.22        2.25      2.02\n",
       " 24           mini    2,797  -39.34     43,684      -7.26        0.17      0.25\n",
       " 25     mitsubishi    8,986    5.71    118,074      13.88        0.56      0.68\n",
       " 26         nissan  130,655    7.23  1,344,597      -6.63        8.14      7.80\n",
       " 27        porsche    4,086   -3.04     59,116      -2.30        0.25      0.34\n",
       " 28            ram   68,195   36.73    597,368       7.29        4.25      3.46\n",
       " 29          smart      122  -26.51      1,276     -58.45        0.01      0.01\n",
       " 30         subaru   64,541    1.89    680,135       4.97        4.02      3.95\n",
       " 31          tesla   32,600  497.07    197,517     294.51        2.03      1.15\n",
       " 32         toyota  185,384   -1.14  2,224,156       4.46       11.54     12.90}"
      ]
     },
     "execution_count": 26,
     "metadata": {},
     "output_type": "execute_result"
    }
   ],
   "source": [
    "Data = {} \n",
    "Data['Automobile'] = automobileDF\n",
    "Data['BrandRanking'] = brandRankingDF\n",
    "pandaTransformData = Data\n",
    "pandaTransformData"
   ]
  },
  {
   "cell_type": "code",
   "execution_count": null,
   "metadata": {},
   "outputs": [],
   "source": [
    "%store pandaTransformData"
   ]
  }
 ],
 "metadata": {
  "kernelspec": {
   "display_name": "Python 3",
   "language": "python",
   "name": "python3"
  },
  "language_info": {
   "codemirror_mode": {
    "name": "ipython",
    "version": 3
   },
   "file_extension": ".py",
   "mimetype": "text/x-python",
   "name": "python",
   "nbconvert_exporter": "python",
   "pygments_lexer": "ipython3",
   "version": "3.7.1"
  }
 },
 "nbformat": 4,
 "nbformat_minor": 2
}
