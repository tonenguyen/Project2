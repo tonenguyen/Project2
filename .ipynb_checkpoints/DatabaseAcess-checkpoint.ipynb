{
 "cells": [
  {
   "cell_type": "code",
   "execution_count": 95,
   "metadata": {},
   "outputs": [],
   "source": [
    "import pandas as pd\n",
    "from sqlalchemy import create_engine\n",
    "from mysql.connector import Error"
   ]
  },
  {
   "cell_type": "code",
   "execution_count": 96,
   "metadata": {},
   "outputs": [],
   "source": [
    "import Project2Keys as Keys\n",
    "#print(Keys.userName, Keys.userPass)"
   ]
  },
  {
   "cell_type": "code",
   "execution_count": 97,
   "metadata": {},
   "outputs": [
    {
     "name": "stdout",
     "output_type": "stream",
     "text": [
      "Connected to MySQL and created DB ProjectX \n",
      "<sqlalchemy.engine.base.Connection object at 0x0000000009E7A588>\n"
     ]
    }
   ],
   "source": [
    "#DB Connection \n",
    "\n",
    "DB_NAME = 'ProjectX'\n",
    "userName = Keys.userName\n",
    "userPass = Keys.userPass\n",
    "DBport = '3306'\n",
    "\n",
    "#!pip install pymysql\n",
    "# use pymysql as connector\n",
    "\n",
    "connectionString = \"mysql+pymysql://{}:{}@localhost:{}/\".format(userName, userPass, DBport)\n",
    "\n",
    "connectionDB = None\n",
    "\n",
    "try:\n",
    "    connection = create_engine(connectionString)\n",
    "    connectionDB = connection.connect()\n",
    "    connectionDB.execute(\"commit\")\n",
    "    record = connection.execute(\"CREATE DATABASE IF NOT EXISTS {};\".format(DB_NAME))\n",
    "    print(\"Connected to MySQL and created DB {} \\n{}\".format(DB_NAME, connectionDB))\n",
    "    \n",
    "except Error as e :\n",
    "    print (\"Error while connecting to MySQL\", e)  "
   ]
  },
  {
   "cell_type": "code",
   "execution_count": 98,
   "metadata": {},
   "outputs": [],
   "source": [
    "#Table layout\n",
    "\n",
    "TABLES = {}\n",
    "\n",
    "tableSyntax = \"CREATE TABLE IF NOT EXISTS\"\n",
    "\n",
    "TABLES['BrandRanking'] = (\n",
    "    \"{} `BrandRanking` (\"\n",
    "    \" `id` int(6) NOT NULL AUTO_INCREMENT,\"\n",
    "    \" `Brand` varchar(15) NOT NULL,\"\n",
    "    \" `Month` int(10) NOT NULL,\"\n",
    "    \" `Change` FLOAT NOT NULL,\"\n",
    "    \" `YTD` int(12) NOT NULL,\"\n",
    "    \" `YTDChange` FLOAT NOT NULL,\"\n",
    "    \" `Month Share` FLOAT NOT NULL,\"\n",
    "    \" `YTD Share` FLOAT NOT NULL,\"\n",
    "    \"  PRIMARY KEY (`id`)\"\n",
    "    \") ENGINE=InnoDB\".format(tableSyntax) )\n",
    "\n",
    "#TABLES = {}"
   ]
  },
  {
   "cell_type": "code",
   "execution_count": 99,
   "metadata": {},
   "outputs": [],
   "source": [
    "TABLES['Automobile'] = (\n",
    "    \"{} `Automobile` (\"\n",
    "    \" `id` int(6) NOT NULL AUTO_INCREMENT,\"\n",
    "    \" `make` varchar(15) NOT NULL,\"\n",
    "    \" `fuel-type` varchar(10) NOT NULL,\"\n",
    "    \" `aspiration` varchar(6) NOT NULL,\"\n",
    "    \" `num-of-doors` varchar(6) NOT NULL,\"\n",
    "    \" `body-style` varchar(10) NOT NULL,\"\n",
    "    \" `drive-wheels` varchar(10) NOT NULL,\"\n",
    "    \" `engine-location` varchar (10) NOT NULL,\"\n",
    "    \" `wheel-base` FLOAT(15) NOT NULL,\"\n",
    "    \" `length` FLOAT(10) NOT NULL,\"\n",
    "    \" `width` FLOAT (10) NOT NULL,\"\n",
    "    \" `height` FLOAT(12) NOT NULL,\"\n",
    "    \" `curb-weight` FLOAT NOT NULL,\"\n",
    "    \" `engine-type` varchar(6) NOT NULL,\"\n",
    "    \" `num-of-cylinders` varchar(7) NOT NULL,\"\n",
    "    \" `engine-size` int(10) NOT NULL,\"\n",
    "    \" `fuel-system` varchar(6) NOT NULL,\"\n",
    "    \" `bore` FLOAT(12) NOT NULL,\"\n",
    "    \" `stroke` FLOAT NOT NULL,\"\n",
    "    \" `compression-ratio` FLOAT NOT NULL,\"\n",
    "    \" `horsepower` int(10) NOT NULL,\"\n",
    "    \" `peak-rpm` int(10) NOT NULL,\"\n",
    "    \" `city-mpg` int(10) NOT NULL,\"\n",
    "    \" `highway-mpg` int(10) NOT NULL,\"\n",
    "    \" `price` FLOAT(12) NOT NULL,\"\n",
    "    \"  PRIMARY KEY (`id`)\"\n",
    "    \") ENGINE=InnoDB\".format(tableSyntax) )"
   ]
  },
  {
   "cell_type": "code",
   "execution_count": 100,
   "metadata": {},
   "outputs": [
    {
     "data": {
      "text/plain": [
       "'\\nTABLES[\\'CarSales\\'] = (\\n    \"{} `CarSales` (\"\\n    \" `id` int(6) NOT NULL AUTO_INCREMENT,\"\\n    \" `Brand` varchar(10) NOT NULL,\"\\n    \" `Model` varchar(10) NOT NULL,\"\\n    \" `VehicleType` varchar(15) NOT NULL,\"\\n    \" `SaleVolume` int(10) NOT NULL,\"\\n    \" `Date` varchar(10) NOT NULL,\"\\n    \"  PRIMARY KEY (`id`)\"\\n    \") ENGINE=InnoDB\".format(tableSyntax) )\\n\\nTABLES[\\'TotalSales\\'] = (\\n    \"{} `TotalSales` (\"\\n    \"  `id` int(6) NOT NULL AUTO_INCREMENT,\"\\n    \"  `Date`  DATE NOT NULL,\"\\n    \"  `Volume` INT(10) NOT NULL,\"\\n    \"  PRIMARY KEY (`id`)\"\\n    \") ENGINE=InnoDB\".format(tableSyntax) )\\n'"
      ]
     },
     "execution_count": 100,
     "metadata": {},
     "output_type": "execute_result"
    }
   ],
   "source": [
    "#legacy tables \n",
    "'''\n",
    "TABLES['CarSales'] = (\n",
    "    \"{} `CarSales` (\"\n",
    "    \" `id` int(6) NOT NULL AUTO_INCREMENT,\"\n",
    "    \" `Brand` varchar(10) NOT NULL,\"\n",
    "    \" `Model` varchar(10) NOT NULL,\"\n",
    "    \" `VehicleType` varchar(15) NOT NULL,\"\n",
    "    \" `SaleVolume` int(10) NOT NULL,\"\n",
    "    \" `Date` varchar(10) NOT NULL,\"\n",
    "    \"  PRIMARY KEY (`id`)\"\n",
    "    \") ENGINE=InnoDB\".format(tableSyntax) )\n",
    "\n",
    "TABLES['TotalSales'] = (\n",
    "    \"{} `TotalSales` (\"\n",
    "    \"  `id` int(6) NOT NULL AUTO_INCREMENT,\"\n",
    "    \"  `Date`  DATE NOT NULL,\"\n",
    "    \"  `Volume` INT(10) NOT NULL,\"\n",
    "    \"  PRIMARY KEY (`id`)\"\n",
    "    \") ENGINE=InnoDB\".format(tableSyntax) )\n",
    "'''"
   ]
  },
  {
   "cell_type": "code",
   "execution_count": 101,
   "metadata": {
    "scrolled": false
   },
   "outputs": [
    {
     "name": "stdout",
     "output_type": "stream",
     "text": [
      "Creating table CREATE TABLE IF NOT EXISTS `BrandRanking` ( `id` int(6) NOT NULL AUTO_INCREMENT, `Brand` varchar(15) NOT NULL, `Month` int(10) NOT NULL, `Change` FLOAT NOT NULL, `YTD` int(12) NOT NULL, `YTDChange` FLOAT NOT NULL, `Month Share` FLOAT NOT NULL, `YTD Share` FLOAT NOT NULL,  PRIMARY KEY (`id`)) ENGINE=InnoDB: Creating table CREATE TABLE IF NOT EXISTS `Automobile` ( `id` int(6) NOT NULL AUTO_INCREMENT, `make` varchar(15) NOT NULL, `fuel-type` varchar(10) NOT NULL, `aspiration` varchar(6) NOT NULL, `num-of-doors` varchar(6) NOT NULL, `body-style` varchar(10) NOT NULL, `drive-wheels` varchar(10) NOT NULL, `engine-location` varchar (10) NOT NULL, `wheel-base` FLOAT(15) NOT NULL, `length` FLOAT(10) NOT NULL, `width` FLOAT (10) NOT NULL, `height` FLOAT(12) NOT NULL, `curb-weight` FLOAT NOT NULL, `engine-type` varchar(6) NOT NULL, `num-of-cylinders` varchar(7) NOT NULL, `engine-size` int(10) NOT NULL, `fuel-system` varchar(6) NOT NULL, `bore` FLOAT(12) NOT NULL, `stroke` FLOAT NOT NULL, `compression-ratio` FLOAT NOT NULL, `horsepower` int(10) NOT NULL, `peak-rpm` int(10) NOT NULL, `city-mpg` int(10) NOT NULL, `highway-mpg` int(10) NOT NULL, `price` FLOAT(12) NOT NULL,  PRIMARY KEY (`id`)) ENGINE=InnoDB: "
     ]
    }
   ],
   "source": [
    "# create the tables in mySQL\n",
    "\n",
    "try:\n",
    "    connectionDB.execute('Use {};'.format(DB_NAME))\n",
    "    for eachTable in TABLES.keys():\n",
    "        table_description = TABLES[eachTable]\n",
    "        #print(eachTable, table_description)\n",
    "        try:\n",
    "            print(\"Creating table {}: \".format(table_description), end='')\n",
    "            connectionDB.execute(table_description)\n",
    "        except Error as err:\n",
    "            print(\"Failed creating table: {}\".format(err))\n",
    "except:\n",
    "    print('Cannot create {} table'.format(eachTable))\n",
    "    print(\"Connection is not working\")\n",
    "        \n",
    "#connectionDB.close()\n",
    "#close the connection when done"
   ]
  },
  {
   "cell_type": "code",
   "execution_count": 73,
   "metadata": {},
   "outputs": [
    {
     "data": {
      "text/plain": [
       "\"df = pd.read_csv('cleanedAutomobile.csv')\\ndf1 = pd.read_csv('BrandRanking.csv')\\ndf.dtypes\\ndf\""
      ]
     },
     "execution_count": 73,
     "metadata": {},
     "output_type": "execute_result"
    }
   ],
   "source": [
    "'''df = pd.read_csv('cleanedAutomobile.csv')\n",
    "df1 = pd.read_csv('BrandRanking.csv')\n",
    "df.dtypes\n",
    "df'''"
   ]
  },
  {
   "cell_type": "code",
   "execution_count": 102,
   "metadata": {},
   "outputs": [
    {
     "name": "stdout",
     "output_type": "stream",
     "text": [
      "Stored 'WebScrapingData' (list)\n",
      "Stored 'pandaTransformData' (dict)\n"
     ]
    }
   ],
   "source": [
    "%run PandaTransformData.ipynb"
   ]
  },
  {
   "cell_type": "code",
   "execution_count": 103,
   "metadata": {
    "scrolled": false
   },
   "outputs": [],
   "source": [
    "%store -r pandaTransformData\n",
    "#pandaTransformData.keys()\n"
   ]
  },
  {
   "cell_type": "code",
   "execution_count": 104,
   "metadata": {},
   "outputs": [],
   "source": [
    "connectionDBString = connectionString+DB_NAME\n",
    "connectionDB = create_engine(connectionDBString)\n",
    "\n",
    "for eachTable in pandaTransformData.keys():\n",
    "    #print(eachTable.lower(), pandaTransformData[eachTable])\n",
    "    pandaTransformData[eachTable].to_sql(con=connectionDB, name=eachTable.lower(), if_exists='replace')\n",
    "    "
   ]
  },
  {
   "cell_type": "code",
   "execution_count": null,
   "metadata": {},
   "outputs": [],
   "source": []
  }
 ],
 "metadata": {
  "kernelspec": {
   "display_name": "Python 3",
   "language": "python",
   "name": "python3"
  },
  "language_info": {
   "codemirror_mode": {
    "name": "ipython",
    "version": 3
   },
   "file_extension": ".py",
   "mimetype": "text/x-python",
   "name": "python",
   "nbconvert_exporter": "python",
   "pygments_lexer": "ipython3",
   "version": "3.7.1"
  }
 },
 "nbformat": 4,
 "nbformat_minor": 2
}
